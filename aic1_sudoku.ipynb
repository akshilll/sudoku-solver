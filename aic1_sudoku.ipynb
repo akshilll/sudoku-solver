{
 "cells": [
  {
   "cell_type": "markdown",
   "metadata": {},
   "source": [
    "# Solving Sudoku\n",
    "\n",
    "The primary description of this coursework is available on the CM20252 Moodle page. This is the Jupyter notebook you must complete and submit to receive marks. \n",
    "\n",
    "** You must follow all instructions given in this notebook. **\n",
    "\n",
    "Restart the kernel and run all cells before submitting the notebook. This will guarantee that we will be able to run your code for testing.\n",
    "\n",
    "Remember to save your work regularly. "
   ]
  },
  {
   "cell_type": "markdown",
   "metadata": {},
   "source": [
    "## Getting Started\n",
    "\n",
    "You already know that you will be writing a Sudoku solver. You need to implement your solver in Python in this notebook. You can use any of the appropriate problem-solving techniques discussed in the lectures. You are encouraged to modify the basic algorithms. Be creative. \n",
    "\n",
    "You will be given Sudoku puzzles that either have a single solution or no solution. You will need to identify the solution, if there is one.\n",
    "\n",
    "Below is a sample puzzle along with its solution. \n",
    "\n",
    "<img src=\"resources/images/Sudoku_unsolved.png\" style=\"width: 200px;\"/>\n",
    "<img src=\"resources/images/Sudoku_solved.png\" style=\"width: 200px;\"/>\n"
   ]
  },
  {
   "cell_type": "markdown",
   "metadata": {},
   "source": [
    "## Sample Sudokus\n",
    "\n",
    "You can test your code on a set of 100 sample Sudoku puzzles. This set is similar to the test set that will be used to assess your work. \n",
    "\n",
    "The following code will load 100 Sudoku puzzles and their solutions into two `100x9x9` numpy arrays. Empty cells are designated by zeros. "
   ]
  },
  {
   "cell_type": "code",
   "execution_count": 3,
   "metadata": {},
   "outputs": [
    {
     "name": "stdout",
     "output_type": "stream",
     "text": [
      "Shape of sudokus array: (100, 9, 9) ; Type of array values: int32\n",
      "Shape of solutions array: (100, 9, 9) ; Type of array values: int32 \n",
      "\n",
      "Sudoku #1:\n",
      "[[0 0 4 3 0 0 2 0 9]\n",
      " [0 0 5 0 0 9 0 0 1]\n",
      " [0 7 0 0 6 0 0 4 3]\n",
      " [0 0 6 0 0 2 0 8 7]\n",
      " [1 9 0 0 0 7 4 0 0]\n",
      " [0 5 0 0 8 3 0 0 0]\n",
      " [6 0 0 0 0 0 1 0 5]\n",
      " [0 0 3 5 0 8 6 9 0]\n",
      " [0 4 2 9 1 0 3 0 0]] \n",
      "\n",
      "Solution of Sudoku #1:\n",
      "[[8 6 4 3 7 1 2 5 9]\n",
      " [3 2 5 8 4 9 7 6 1]\n",
      " [9 7 1 2 6 5 8 4 3]\n",
      " [4 3 6 1 9 2 5 8 7]\n",
      " [1 9 8 6 5 7 4 3 2]\n",
      " [2 5 7 4 8 3 9 1 6]\n",
      " [6 8 9 7 3 4 1 2 5]\n",
      " [7 1 3 5 2 8 6 9 4]\n",
      " [5 4 2 9 1 6 3 7 8]]\n",
      "----------\n"
     ]
    }
   ],
   "source": [
    "import numpy as np\n",
    "\n",
    "# Load sudokus\n",
    "sudokus = np.load(\"resources/data/sudokus.npy\")\n",
    "print(\"Shape of sudokus array:\", sudokus.shape, \"; Type of array values:\", sudokus.dtype)\n",
    "\n",
    "# Load solutions\n",
    "solutions = np.load(\"resources/data/solutions.npy\")\n",
    "print(\"Shape of solutions array:\", solutions.shape, \"; Type of array values:\", solutions.dtype, \"\\n\")\n",
    "\n",
    "sudoku1000 = np.load(\"resources/data/sudoku-sample-1000.npy\")\n",
    "\n",
    "unsolvable = np.load(\"resources/data/sudoku-sample-15-unsolvable.npy\")\n",
    "# Print the first sudoku...\n",
    "print(\"Sudoku #1:\")\n",
    "print(sudokus[0], \"\\n\")\n",
    "\n",
    "# ...and its solution\n",
    "print(\"Solution of Sudoku #1:\")\n",
    "print(solutions[0])\n",
    "print(\"----------\")\n",
    "\n",
    "   "
   ]
  },
  {
   "cell_type": "markdown",
   "metadata": {},
   "source": [
    "#### Your code ##\n",
    "\n",
    "Define a function called `sudoku_solver()` that takes **one** Sudoku puzzle (a $9 \\times 9$ numpy array) as input and returns the solved Sudoku as a $9 \\times 9$ numpy array. Note that the test set may contain invalid Sudokus, that is, Sudokus with no solution. In such a case, your function should return a $9 \\times 9$ numpy array whose values are all equal to `-1`.  \n",
    "\n",
    "You may use more than one cell to write your code (but this is not necessary)."
   ]
  },
  {
   "cell_type": "code",
   "execution_count": 21,
   "metadata": {
    "deletable": false,
    "nbgrader": {
     "checksum": "e9136f738d8d93279f23374caa2f1555",
     "grade": false,
     "grade_id": "cell-04002a3e6182aefa",
     "locked": false,
     "schema_version": 1,
     "solution": true
    }
   },
   "outputs": [],
   "source": [
    "import numpy as np\n",
    "\n",
    "def is_valid(sudoku, x, y, n):\n",
    "    #checks same column and row of (x,y) for n\n",
    "    for i in range(9):\n",
    "        if sudoku[x][i] == n and i!=y:\n",
    "            return False\n",
    "        elif sudoku[i][y] == n and i!=x:\n",
    "            return False\n",
    "    \n",
    "    for k in range(0,8,3):\n",
    "        for l in range(0,8,3):\n",
    "            tmp = np.ndarray.tolist(sudoku[k:k+3,l:l+3])\n",
    "            blocks.append(tmp)\n",
    "    for i in blocks:\n",
    "        blocks2.append(i[0] + i[1] + i[2])\n",
    "\n",
    "    rowstart = (x//3)*3\n",
    "    \n",
    "    colstart = (y//3)\n",
    "\n",
    "    for i in blocks2[rowstart+colstart]:\n",
    "        if i == n:\n",
    "            return False\n",
    "    return True\n",
    "\n",
    "\n",
    "# finds the cell in sudoku with least possible values, and fills in cells with only one possible value and then outputs\n",
    "# cell with least possible values or -1 if it finds a cell that has no possible values - used to find unsolvable sudokus\n",
    "def infer(sudoku):\n",
    "    if np.array_equal(sudoku, (-1*np.ones([9,9])).astype(int)):\n",
    "        return sudoku\n",
    "    if find_empties(sudoku)[0] == -1:\n",
    "        return sudoku\n",
    "    [a,b] = [0,0]\n",
    "    min_len = 9\n",
    "    for i in range(9):\n",
    "        for j in range(9):\n",
    "            if sudoku[i][j] == 0 and len(possible_vals(sudoku, i , j)) < min_len:\n",
    "                min_len = len(possible_vals(sudoku, i, j))\n",
    "                [a,b] = [i, j]\n",
    "    if min_len == 0:\n",
    "        return -1*np.ones([9,9]).astype(int)\n",
    "    elif min_len == 1:\n",
    "        sudoku[a][b] = possible_vals(sudoku, a, b).pop()\n",
    "        return infer(sudoku)\n",
    "    else:\n",
    "        return sudoku\n",
    "    \n",
    "def backtrack(sudoku):\n",
    "    [row , col, boole] = find_empties(sudoku) \n",
    "    \n",
    "    if not boole:\n",
    "        return True\n",
    "    \n",
    "    \n",
    "    for i in range(1,10):\n",
    "        \n",
    "        if is_valid(sudoku, row, col, i):\n",
    "            sudoku[row][col] = i\n",
    "            if backtrack(sudoku) :\n",
    "                return True\n",
    "            else:\n",
    "                sudoku[row][col] = 0\n",
    "    return False\n",
    "\n",
    "\n",
    "def find_empties(sudoku):\n",
    "    #checks if there is any empty cells - use to see if its solved/solvable\n",
    "    tmp  = False\n",
    "    #iterates from top to find first empty\n",
    "    for i in range(9):\n",
    "        for j in range(9):\n",
    "            if sudoku[i][j] == 0:\n",
    "                tmp = True\n",
    "                return [i , j, tmp] # returns where the empty is and tmp \n",
    "    return [-1, -1, tmp] # if this is reached then the sudoku is full and solved\n",
    "\n",
    "\n",
    "def possible_vals(sudoku, x, y):\n",
    "    col = set()\n",
    "    block = set()\n",
    "    row = set(sudoku[x][:])\n",
    "    for i in range(9):\n",
    "        col.add(sudoku[i][y])\n",
    "    r = (x//3)*3\n",
    "    c = (y//3)*3\n",
    "    for i in range(r, r+3):\n",
    "        for j in range(c, c+3):\n",
    "            block.add(sudoku[i][j])\n",
    "    return {1,2,3,4,5,6,7,8,9} - row.union(col, block)\n",
    "\n",
    "def sudoku_solver(sudoku):\n",
    "    nope = -1*np.ones([9,9]).astype(int)\n",
    "    tmp = infer(sudoku)\n",
    "    if np.array_equal(tmp,nope):\n",
    "        return nope\n",
    "    elif backtrack(tmp):\n",
    "        return sudoku\n",
    "    else:\n",
    "        return nope\n",
    "\n"
   ]
  },
  {
   "cell_type": "markdown",
   "metadata": {},
   "source": [
    "## Testing your code\n",
    "\n",
    "You can test your code on the sudoku puzzles that we have provided. For example, the following code cell should return `True` if your `sudoku_solver()` function can correctly solve the first sudoku. This will work only if all of your code is above the test cell. Otherwise, the test cell does not have access to the `sudoku_solver()` function."
   ]
  },
  {
   "cell_type": "code",
   "execution_count": 29,
   "metadata": {},
   "outputs": [
    {
     "data": {
      "text/plain": [
       "array([[-1, -1, -1, -1, -1, -1, -1, -1, -1],\n",
       "       [-1, -1, -1, -1, -1, -1, -1, -1, -1],\n",
       "       [-1, -1, -1, -1, -1, -1, -1, -1, -1],\n",
       "       [-1, -1, -1, -1, -1, -1, -1, -1, -1],\n",
       "       [-1, -1, -1, -1, -1, -1, -1, -1, -1],\n",
       "       [-1, -1, -1, -1, -1, -1, -1, -1, -1],\n",
       "       [-1, -1, -1, -1, -1, -1, -1, -1, -1],\n",
       "       [-1, -1, -1, -1, -1, -1, -1, -1, -1],\n",
       "       [-1, -1, -1, -1, -1, -1, -1, -1, -1]])"
      ]
     },
     "execution_count": 29,
     "metadata": {},
     "output_type": "execute_result"
    }
   ],
   "source": [
    "sudoku_solver(unsolvable[8])\n",
    "\n",
    "#print(-1*np.ones([9,9]).astype(int))"
   ]
  },
  {
   "cell_type": "markdown",
   "metadata": {},
   "source": [
    "\n",
    "## How we will test your code\n",
    "\n",
    "We will test your code using the hidden tests in the following cell. Specifically, the hidden tests will test your `sudoku_solver()` function on a different set of 100 sudoku puzzles of similar difficulty. **Make sure all of your code is above our test cell. ** Otherwise, the test cell will not have access to the sudoku_solver() function and you will receive zero marks."
   ]
  },
  {
   "cell_type": "code",
   "execution_count": 35,
   "metadata": {
    "deletable": false,
    "editable": false,
    "nbgrader": {
     "checksum": "e506e426921a052aaa1a77a0153bcb15",
     "grade": true,
     "grade_id": "cell-79e0e98009b0e252",
     "locked": true,
     "points": 100,
     "schema_version": 1,
     "solution": false
    }
   },
   "outputs": [],
   "source": [
    "# This is the TEST CELL. Do not delete or change. All of your code must be written above this cell. "
   ]
  },
  {
   "cell_type": "code",
   "execution_count": null,
   "metadata": {},
   "outputs": [],
   "source": []
  }
 ],
 "metadata": {
  "kernelspec": {
   "display_name": "Python 3",
   "language": "python",
   "name": "python3"
  },
  "language_info": {
   "codemirror_mode": {
    "name": "ipython",
    "version": 3
   },
   "file_extension": ".py",
   "mimetype": "text/x-python",
   "name": "python",
   "nbconvert_exporter": "python",
   "pygments_lexer": "ipython3",
   "version": "3.6.4"
  }
 },
 "nbformat": 4,
 "nbformat_minor": 2
}
